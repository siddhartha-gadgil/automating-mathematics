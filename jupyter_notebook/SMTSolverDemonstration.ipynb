{
 "cells": [
  {
   "cell_type": "markdown",
   "metadata": {},
   "source": [
    "# Euclidean Geometry by high-peformance SMT solvers?"
   ]
  },
  {
   "cell_type": "markdown",
   "metadata": {},
   "source": [
    "### Siddhartha Gadgil and Anand Rao Tadipatri\n",
    "\n",
    "Famous results of G&ouml;del, Turing, Church and others show that there is no algorithm that can take a mathematical statement as input and return a proof or disproof. Yet, by a result of Tarski, we do have such programs for statements in Euclidean geometry (more precisely _first-order_ statements). \n",
    "\n",
    "This notebook is to demonstrate the results of our attempts using [`Z3`](https://github.com/Z3Prover/z3) &mdash; an open source high-performance solver from Microsoft. This notebook is a companion to our [article](http://math.iisc.ac.in/~gadgil/SMTGeom.pdf), which has more background.\n",
    " "
   ]
  },
  {
   "cell_type": "code",
   "execution_count": 1,
   "metadata": {},
   "outputs": [],
   "source": [
    "from z3 import *\n",
    "set_param(proof=True)"
   ]
  },
  {
   "cell_type": "markdown",
   "metadata": {},
   "source": [
    "---\n",
    "## Warmup: A simple problem"
   ]
  },
  {
   "cell_type": "markdown",
   "metadata": {},
   "source": [
    "As a warmup and sanity check, consider\n",
    "the problem of showing that for an arbitrary point $P = (x, y)$, the three points\n",
    "$P = (x, y)$, $O = (0, 0)$ and $−P = (−x, −y)$ are collinear."
   ]
  },
  {
   "cell_type": "code",
   "execution_count": 2,
   "metadata": {},
   "outputs": [],
   "source": [
    "P = (x, y) = Reals('x y')  #the coordinates of the point P\n",
    "O = (0, 0)  #the coordinates of the origin\n",
    "Q = (-x, -y)  #the reflection of the point P about the origin"
   ]
  },
  {
   "cell_type": "markdown",
   "metadata": {},
   "source": [
    "#### Equations for collinearity\n",
    "\n",
    "The condition for three points $(x_1, y_1), (x_2, y_2) \\text{ and } (x_3, y_3)$ being collinear is \n",
    "\n",
    "$$\n",
    "\\frac{y_2 - y_1}{x_2 - x_1} = \\frac{y_3 - y_1}{x_3 - x_1}\n",
    "$$\n",
    "\n",
    "Intuitively, this says that the slope of the line joining the points $(x_1, y_1)$ and $(x_2, y_2)$ is equal to the slope of the line joining $(x_1, y_1)$ and $(x_3, y_3)$.\n",
    "\n",
    "The above expression is equivalent to\n",
    "\n",
    "$$(y_2 - y_1) \\cdot (x_3 - x_1) = (y_3 - y_1) \\cdot (x_2 - x_1)$$"
   ]
  },
  {
   "cell_type": "code",
   "execution_count": 3,
   "metadata": {},
   "outputs": [],
   "source": [
    "def are_collinear(p, q, r):\n",
    "    \"\"\"\n",
    "    Checks if three points - `p`, `q`, `r` - are collinear.\n",
    "    \n",
    "    Here, `p[0]` and `p[1]` denote the _x_ and _y_ coordinates of `p` respectively.\n",
    "    \"\"\"\n",
    "    return ( (q[1]-p[1])*(r[0]-p[0]) == (r[1]-p[1])*(q[0]-p[0]) )"
   ]
  },
  {
   "cell_type": "code",
   "execution_count": 4,
   "metadata": {},
   "outputs": [
    {
     "name": "stdout",
     "output_type": "stream",
     "text": [
      "proved\n"
     ]
    }
   ],
   "source": [
    "prove((are_collinear(P, O, Q)))"
   ]
  },
  {
   "cell_type": "markdown",
   "metadata": {},
   "source": [
    "This shows that the claim that the points $P$, $O$ and $Q$ are collinear is true."
   ]
  },
  {
   "cell_type": "markdown",
   "metadata": {},
   "source": [
    "Internally, the `prove` function works roughly in the following way:\n",
    "- The given claim (that the points `P`, `O` and `Q` are collinear is first negated.\n",
    "- The solver then checks whether the given system of equations is satisfiable, i.e., whether there are real numbers `x` and `y` for which `Not(are_collinear((x, y), (0, 0), (-x, -y))` holds.\n",
    "- If no such solutions are found, this shows by contradiction that the initial claim was correct, namely that for any point `(x, y)`, the points `(x, y), (0, 0), (-x, -y)` are collinear."
   ]
  },
  {
   "cell_type": "code",
   "execution_count": 5,
   "metadata": {},
   "outputs": [
    {
     "data": {
      "text/html": [
       "<b>unsat</b>"
      ],
      "text/plain": [
       "unsat"
      ]
     },
     "execution_count": 5,
     "metadata": {},
     "output_type": "execute_result"
    }
   ],
   "source": [
    "collinearity_solver = Solver()\n",
    "collinearity_solver.add(Not(are_collinear(P, O, Q)))  #the negation of the statement\n",
    "collinearity_solver.check()  #`unsat` indicates that the given equation is not satisfiable"
   ]
  },
  {
   "cell_type": "markdown",
   "metadata": {},
   "source": [
    "This is the statement given to the solver"
   ]
  },
  {
   "cell_type": "code",
   "execution_count": 6,
   "metadata": {},
   "outputs": [
    {
     "data": {
      "text/html": [
       "[&not;((0 - y)&middot;(-x - x) = (-y - y)&middot;(0 - x))]"
      ],
      "text/plain": [
       "[Not((0 - y)*(-x - x) == (-y - y)*(0 - x))]"
      ]
     },
     "execution_count": 6,
     "metadata": {},
     "output_type": "execute_result"
    }
   ],
   "source": [
    "collinearity_solver  #the statement of the claim"
   ]
  },
  {
   "cell_type": "markdown",
   "metadata": {},
   "source": [
    "This is the code in SMT2 format"
   ]
  },
  {
   "cell_type": "code",
   "execution_count": 7,
   "metadata": {
    "scrolled": true
   },
   "outputs": [
    {
     "name": "stdout",
     "output_type": "stream",
     "text": [
      "(declare-fun x () Real)\n",
      "(declare-fun y () Real)\n",
      "(assert (let ((a!1 (= (* (- 0.0 y) (- (- x) x)) (* (- (- y) y) (- 0.0 x)))))\n",
      "  (not a!1)))\n",
      "\n"
     ]
    }
   ],
   "source": [
    "print(collinearity_solver.sexpr())  #this is how the code is represented in SMT2 format"
   ]
  },
  {
   "cell_type": "markdown",
   "metadata": {},
   "source": [
    "One can also use the `Z3` solver to produce a proof of the result using the solver, which can then be verified independently to ensure that it is correct."
   ]
  },
  {
   "cell_type": "code",
   "execution_count": 8,
   "metadata": {
    "scrolled": true
   },
   "outputs": [
    {
     "data": {
      "text/html": [
       "mp(asserted(&not;((0 - y)&middot;(-x - x) = (-y - y)&middot;(0 - x))),\n",
       "   trans(monotonicity(trans(monotonicity(trans(trans(monotonicity(trans(rewrite(0 -\n",
       "                                        y =\n",
       "                                        0 + -1&middot;y),\n",
       "                                        rewrite(0 + -1&middot;y =\n",
       "                                        -1&middot;y),\n",
       "                                        0 - y = -1&middot;y),\n",
       "                                        trans(trans(monotonicity(rewrite(-x =\n",
       "                                        -1&middot;x),\n",
       "                                        -x - x = -1&middot;x - x),\n",
       "                                        rewrite(-1&middot;x - x =\n",
       "                                        -1&middot;x + -1&middot;x),\n",
       "                                        -x - x = -1&middot;x + -1&middot;x),\n",
       "                                        rewrite(-1&middot;x + -1&middot;x =\n",
       "                                        -2&middot;x),\n",
       "                                        -x - x = -2&middot;x),\n",
       "                                        (0 - y)&middot;(-x - x) =\n",
       "                                        -1&middot;y&middot;-2&middot;x),\n",
       "                                        rewrite(-1&middot;y&middot;-2&middot;x =\n",
       "                                        2&middot;y&middot;x),\n",
       "                                        (0 - y)&middot;(-x - x) =\n",
       "                                        2&middot;y&middot;x),\n",
       "                                        rewrite(2&middot;y&middot;x =\n",
       "                                        2&middot;x&middot;y),\n",
       "                                        (0 - y)&middot;(-x - x) =\n",
       "                                        2&middot;x&middot;y),\n",
       "                                        trans(trans(monotonicity(trans(trans(monotonicity(rewrite(-y =\n",
       "                                        -1&middot;y),\n",
       "                                        -y - y = -1&middot;y - y),\n",
       "                                        rewrite(-1&middot;y - y =\n",
       "                                        -1&middot;y + -1&middot;y),\n",
       "                                        -y - y = -1&middot;y + -1&middot;y),\n",
       "                                        rewrite(-1&middot;y + -1&middot;y =\n",
       "                                        -2&middot;y),\n",
       "                                        -y - y = -2&middot;y),\n",
       "                                        trans(rewrite(0 - x =\n",
       "                                        0 + -1&middot;x),\n",
       "                                        rewrite(0 + -1&middot;x =\n",
       "                                        -1&middot;x),\n",
       "                                        0 - x = -1&middot;x),\n",
       "                                        (-y - y)&middot;(0 - x) =\n",
       "                                        -2&middot;y&middot;-1&middot;x),\n",
       "                                        rewrite(-2&middot;y&middot;-1&middot;x =\n",
       "                                        2&middot;y&middot;x),\n",
       "                                        (-y - y)&middot;(0 - x) =\n",
       "                                        2&middot;y&middot;x),\n",
       "                                        rewrite(2&middot;y&middot;x =\n",
       "                                        2&middot;x&middot;y),\n",
       "                                        (-y - y)&middot;(0 - x) =\n",
       "                                        2&middot;x&middot;y),\n",
       "                                        ((0 - y)&middot;(-x - x) =\n",
       "                                        (-y - y)&middot;(0 - x)) =\n",
       "                                        (2&middot;x&middot;y = 2&middot;x&middot;y)),\n",
       "                            rewrite((2&middot;x&middot;y = 2&middot;x&middot;y) = True),\n",
       "                            ((0 - y)&middot;(-x - x) =\n",
       "                             (-y - y)&middot;(0 - x)) =\n",
       "                            True),\n",
       "                      &not;((0 - y)&middot;(-x - x) = (-y - y)&middot;(0 - x)) =\n",
       "                      &not;True),\n",
       "         rewrite(&not;True = False),\n",
       "         &not;((0 - y)&middot;(-x - x) = (-y - y)&middot;(0 - x)) = False),\n",
       "   False)"
      ],
      "text/plain": [
       "mp(asserted(Not((0 - y)*(-x - x) == (-y - y)*(0 - x))),\n",
       "   trans(monotonicity(trans(monotonicity(trans(trans(monotonicity(trans(rewrite(0 -\n",
       "                                        y ==\n",
       "                                        0 + -1*y),\n",
       "                                        rewrite(0 + -1*y ==\n",
       "                                        -1*y),\n",
       "                                        0 - y == -1*y),\n",
       "                                        trans(trans(monotonicity(rewrite(-x ==\n",
       "                                        -1*x),\n",
       "                                        -x - x == -1*x - x),\n",
       "                                        rewrite(-1*x - x ==\n",
       "                                        -1*x + -1*x),\n",
       "                                        -x - x ==\n",
       "                                        -1*x + -1*x),\n",
       "                                        rewrite(-1*x + -1*x ==\n",
       "                                        -2*x),\n",
       "                                        -x - x == -2*x),\n",
       "                                        (0 - y)*(-x - x) ==\n",
       "                                        -1*y*-2*x),\n",
       "                                        rewrite(-1*y*-2*x ==\n",
       "                                        2*y*x),\n",
       "                                        (0 - y)*(-x - x) ==\n",
       "                                        2*y*x),\n",
       "                                        rewrite(2*y*x ==\n",
       "                                        2*x*y),\n",
       "                                        (0 - y)*(-x - x) ==\n",
       "                                        2*x*y),\n",
       "                                        trans(trans(monotonicity(trans(trans(monotonicity(rewrite(-y ==\n",
       "                                        -1*y),\n",
       "                                        -y - y == -1*y - y),\n",
       "                                        rewrite(-1*y - y ==\n",
       "                                        -1*y + -1*y),\n",
       "                                        -y - y ==\n",
       "                                        -1*y + -1*y),\n",
       "                                        rewrite(-1*y + -1*y ==\n",
       "                                        -2*y),\n",
       "                                        -y - y == -2*y),\n",
       "                                        trans(rewrite(0 - x ==\n",
       "                                        0 + -1*x),\n",
       "                                        rewrite(0 + -1*x ==\n",
       "                                        -1*x),\n",
       "                                        0 - x == -1*x),\n",
       "                                        (-y - y)*(0 - x) ==\n",
       "                                        -2*y*-1*x),\n",
       "                                        rewrite(-2*y*-1*x ==\n",
       "                                        2*y*x),\n",
       "                                        (-y - y)*(0 - x) ==\n",
       "                                        2*y*x),\n",
       "                                        rewrite(2*y*x ==\n",
       "                                        2*x*y),\n",
       "                                        (-y - y)*(0 - x) ==\n",
       "                                        2*x*y),\n",
       "                                        ((0 - y)*(-x - x) ==\n",
       "                                        (-y - y)*(0 - x)) ==\n",
       "                                        (2*x*y == 2*x*y)),\n",
       "                            rewrite((2*x*y == 2*x*y) == True),\n",
       "                            ((0 - y)*(-x - x) ==\n",
       "                             (-y - y)*(0 - x)) ==\n",
       "                            True),\n",
       "                      Not((0 - y)*(-x - x) ==\n",
       "                          (-y - y)*(0 - x)) ==\n",
       "                      Not(True)),\n",
       "         rewrite(Not(True) == False),\n",
       "         Not((0 - y)*(-x - x) == (-y - y)*(0 - x)) == False),\n",
       "   False)"
      ]
     },
     "execution_count": 8,
     "metadata": {},
     "output_type": "execute_result"
    }
   ],
   "source": [
    "collinearity_solver.proof()"
   ]
  },
  {
   "cell_type": "markdown",
   "metadata": {},
   "source": [
    "---\n",
    "## Pappus' theorem"
   ]
  },
  {
   "cell_type": "markdown",
   "metadata": {},
   "source": [
    "In addition to being a typical geometry result, *Pappus' hexagon theorem*\n",
    "has a deeper mathematical meaning (corresponding to commutativity for\n",
    "affine geometries over division rings), as you can read in the beautiful book *Geometric Algebra* by Emil Artin.\n",
    "\n",
    "Suppose we are given two lines, with points $a$, $b$ and $c$ on\n",
    "the first line and $A$, $B$ and $C$ on the second line as in\n",
    "figure below. We consider the general case, where no pair of lines\n",
    "involving these points are parallel. Let $P$ be the intersection of\n",
    "the lines $Ab$ and $aB$, $Q$ the intersection of $Ac$ and\n",
    "$aC$, and $R$ the intersection of $Bc$ and $bC$.\n",
    "\n",
    "The Pappus\n",
    "hexagon theorem is the result that $P$, $Q$ and $R$ are\n",
    "*collinear*, i.e., there is a line containing all three of these\n",
    "points, for all choices of $a$, $b$, $c$, $A$, $B$, and $C$\n",
    "of the above form.\n"
   ]
  },
  {
   "cell_type": "markdown",
   "metadata": {},
   "source": [
    "![Pappus Theorem](../tex/Pappus.png)"
   ]
  },
  {
   "cell_type": "markdown",
   "metadata": {},
   "source": [
    "### Formulating Pappus' theorem in terms of polynomial (in)equalities"
   ]
  },
  {
   "cell_type": "markdown",
   "metadata": {},
   "source": [
    "We shall formulate the Pappus theorem in terms of collinearity, and\n",
    "then translate this into equations and inequations.\n",
    "Recall that collinearity can be\n",
    "expressed as a polynomial equality. Namely, points with coordinates\n",
    "$(x_1, y_1)$, $(x_2, y_2)$ and $(x_3, y_3)$, which we assume to be\n",
    "distinct, are collinear if and only if\n",
    "$\\frac{y_2 - y_1}{x_2 - x_1} = \\frac{y_3 - y_1}{x_3 - x_1}$ which is\n",
    "equivalent to $(y_2 - y_1)(x_3 - x_1) = (y_3 - y_1)(x_2 - x_1)$.\n",
    "\n",
    "We next translate the Pappus theorem, first into coordinate geometry and then into\n",
    "real equations and inequations."
   ]
  },
  {
   "cell_type": "markdown",
   "metadata": {},
   "source": [
    "#### Choosing coordinates"
   ]
  },
  {
   "cell_type": "markdown",
   "metadata": {},
   "source": [
    "While one can (and we initially did) take arbitrary coordinates for the\n",
    "$6$ points $a$, $b$, $c$, $A$, $B$ and $C$ and add\n",
    "equations for their being collinear, we consider a simpler variant where\n",
    "we choose coordinates and parametrize the points. \n",
    "\n",
    "Namely, we can take\n",
    "$a$, $b$ and $c$ on the $x$-axis with $a = (1, 0)$. Then we have\n",
    "$b = (1 + u, 0)$ and $c = (1 + u + v, 0)$ with $u>0$ and $v>0$.\n"
   ]
  },
  {
   "cell_type": "code",
   "execution_count": 9,
   "metadata": {},
   "outputs": [],
   "source": [
    "u, v = Reals('u v')\n",
    "a, b, c = (1, 0), (1+u, 0), (1+u+v, 0)  #the points on the first line"
   ]
  },
  {
   "cell_type": "markdown",
   "metadata": {},
   "source": [
    "Similarly, if we let $A = (x_A, y_A)$, then we can assume that\n",
    "$B = (x_A(1+ U), y_A(1 + U))$ for some $U > 0$ and\n",
    "$C = (x_A(1+ U + V), y_A(1 + U + V))$ for some $V > 0$. Further, we\n",
    "can assume that $y_A > 0$."
   ]
  },
  {
   "cell_type": "code",
   "execution_count": 10,
   "metadata": {},
   "outputs": [],
   "source": [
    "U, V = Reals('U V')  #the scaling parameters\n",
    "\n",
    "#the points on the second line\n",
    "A = (x_A, y_A) = Reals('x_A y_A')\n",
    "B = (x_B, y_B) = (x_A*(1+U), y_A*(1+U))\n",
    "C = (x_C, y_C) = (x_A*(1+U+V), y_A*(1+U+V))"
   ]
  },
  {
   "cell_type": "markdown",
   "metadata": {},
   "source": [
    "Let the points $P= (x_P, y_P)$, $Q = (x_Q, y_Q)$ and\n",
    "$R= (x_R, y_R)$ have arbitrary coordinates. We add equations\n",
    "corresponding to their being intersection points, as we see below. "
   ]
  },
  {
   "cell_type": "code",
   "execution_count": null,
   "metadata": {},
   "outputs": [],
   "source": [
    "P = (x_P, y_P) = Reals('x_P y_P')\n",
    "Q = (x_Q, y_Q) = Reals('x_Q y_Q')\n",
    "R = (x_R, y_R) = Reals('x_R y_R')"
   ]
  },
  {
   "cell_type": "markdown",
   "metadata": {},
   "source": [
    "Thus,\n",
    "we have $12$ variables in all, $6$ of them the parameters $u$,\n",
    "$v$, $x_A$, $y_A$, $U$ and $V$ for the problem and $6$ more\n",
    "coordinates of the intersection points. Further, we have inequations\n",
    "$u >0$, $v >0$, $y_A >0$, $U > 0$ and $V >0$. We shall add to\n",
    "these equations and inequations from the statement of the theorem."
   ]
  },
  {
   "cell_type": "markdown",
   "metadata": {},
   "source": [
    "#### Equations and inequations"
   ]
  },
  {
   "cell_type": "markdown",
   "metadata": {},
   "source": [
    "We reformulate the Pappus hexagon theorem in terms of collinearity.\n",
    "Observe that $P$ being the intersection point of $Ab$ and $aC$ is\n",
    "equivalent to both the triples of points $(A, P, b)$ and $(a, P, B)$\n",
    "being collinear. We have similar conditions for $Q$ and $R$. Thus,\n",
    "the conditions on $P$, $Q$ and $R$ can be formulated in terms of\n",
    "collinearity of $6$ triples of points."
   ]
  },
  {
   "cell_type": "code",
   "execution_count": null,
   "metadata": {},
   "outputs": [],
   "source": [
    "def is_intersection_point(p, X, y, x, Y):\n",
    "    \"\"\"\n",
    "    Gives the condition for the point `p` to lie on the intersection of the lines `XY` and `xy`.\n",
    "    \"\"\"\n",
    "    return And(are_collinear(p, X, y), are_collinear(p, x, Y))"
   ]
  },
  {
   "cell_type": "markdown",
   "metadata": {},
   "source": [
    "Finally, Pappus' theorem can be stated as"
   ]
  },
  {
   "cell_type": "code",
   "execution_count": null,
   "metadata": {},
   "outputs": [],
   "source": [
    "pappus_theorem = Implies(And(\n",
    "    is_intersection_point(P, A, b, a, B),\n",
    "    is_intersection_point(Q, B, c, b, C),\n",
    "    is_intersection_point(R, C, a, c, A)),\n",
    "                         are_collinear(P, Q, R))"
   ]
  },
  {
   "cell_type": "markdown",
   "metadata": {},
   "source": [
    "We seek to prove this theorem by contradiction, namely we add the condition that\n",
    "the the theorem is false, and show that the resulting system cannot be\n",
    "satisfied."
   ]
  },
  {
   "cell_type": "code",
   "execution_count": 16,
   "metadata": {},
   "outputs": [
    {
     "data": {
      "text/html": [
       "<b>unsat</b>"
      ],
      "text/plain": [
       "unsat"
      ]
     },
     "execution_count": 16,
     "metadata": {},
     "output_type": "execute_result"
    }
   ],
   "source": [
    "set_param(proof = False)\n",
    "\n",
    "pappus_solver = Solver()\n",
    "\n",
    "pappus_solver.add(u > 0); pappus_solver.add(v > 0)\n",
    "pappus_solver.add(U > 0); pappus_solver.add(V > 0)\n",
    "\n",
    "pappus_solver.add(Not(pappus_theorem))\n",
    "\n",
    "pappus_solver.check()"
   ]
  },
  {
   "cell_type": "markdown",
   "metadata": {},
   "source": [
    "As before, since the negation of the theorem is unsatisfiable, the theorem must be true.\n",
    "\n",
    "The first line of the above cell - `set_param(proof = False)` - asks the solver to check satisfiability without trying to produce a proof. If one asks for a proof by changing the line to - `set_param(proof = True)` - the solver times out after a few seconds and returns `unknown`.\n",
    "\n",
    "Thus, the `Z3` solver can be used to *solve*, but not *prove* Pappus' theorem."
   ]
  },
  {
   "cell_type": "markdown",
   "metadata": {},
   "source": [
    "---\n",
    "## Menelaus's theorem"
   ]
  },
  {
   "cell_type": "markdown",
   "metadata": {},
   "source": [
    "Another classical result in plane geometry is *Menelaus's theorem*, formulated by Menelaus of Alexandria.\n",
    "\n",
    "Consider a triangle with vertices $A$, $B$ and $C$ and a line that crosses the (possibly extended) edges $AB$, $BC$ and $CA$ at points $D$, $E$ and $F$ respectively. Menelaus' theorem states that\n",
    "\n",
    "$$\n",
    "\\frac{DA}{DB} \\times \\frac{EB}{EC} \\times \\frac{FC}{FA} = 1\n",
    "$$"
   ]
  },
  {
   "cell_type": "markdown",
   "metadata": {},
   "source": [
    "![Menelaus' theorem](../tex/MenelausIllustration.png)"
   ]
  },
  {
   "cell_type": "markdown",
   "metadata": {},
   "source": [
    "This theorem also has a converse, provided certain additional conditions are satisfied - \n",
    "if $D$, $E$ and $F$ are points on the (possibly extended) edges of the triangle $ABC$, and either exactly one or three of these points are contained on extended edges, and the points satisfy the above equation, then they are collinear.\n",
    "\n",
    "Note that the additional condition of either exactly one or three of the points being contained on extended edges is automatically satisfied in the first statement."
   ]
  },
  {
   "cell_type": "markdown",
   "metadata": {},
   "source": [
    "The above theorem is also valid when signed distances are used in place of regular distances (with signed distances, the line segments $AB$ and $BA$ have the same length but differ in sign). In this case, the extra condition is not required for the converse to be true."
   ]
  },
  {
   "cell_type": "markdown",
   "metadata": {},
   "source": [
    "### Formulating Menelaus's theorem in terms of polynomial (in)equations"
   ]
  },
  {
   "cell_type": "markdown",
   "metadata": {},
   "source": [
    "Like Pappus' theorem, Menelaus' theorem is solved by formulating it in coordinate geometry and a system of equations in real variables.\n",
    "\n",
    "#### Defining the variables"
   ]
  },
  {
   "cell_type": "markdown",
   "metadata": {},
   "source": [
    "Three distinct points representing the vertices of the triangle $ABC$ are arbitrarily chosen (one could optimise this by scaling and shifting the triangle to make two of the three vertices coincide with points $(0, 0)$ and $(1, 1)$ on the plane)."
   ]
  },
  {
   "cell_type": "code",
   "execution_count": null,
   "metadata": {},
   "outputs": [],
   "source": [
    "#A, B, C are the vertices of the triangle\n",
    "A = (x_a, y_a) = Reals('x_a y_a')\n",
    "B = (x_b, y_b) = Reals('x_b y_b')\n",
    "C = (x_c, y_c) = Reals('x_c y_c')"
   ]
  },
  {
   "cell_type": "markdown",
   "metadata": {},
   "source": [
    "A line passing through two points $P$ and $Q$ on the plane can be parameterised by a single real number $l$. Moreover, this parameterisation can be chosen such that the value $l = 0$ corresponds to the point $P$ and $l = 1$ corresponds to the point $Q$.\n",
    "\n",
    "The three edges of the triangle - $AB$, $BC$, $CA$ - can be parameterised in this manner by real numbers $r$, $s$ and $t$."
   ]
  },
  {
   "cell_type": "code",
   "execution_count": null,
   "metadata": {},
   "outputs": [],
   "source": [
    "\"\"\"\n",
    "Each of the edges of the triangle can be parameterised by a single variable,\n",
    "which is equal to the first vertex at 0 and equal to the second vertex at 1.\n",
    "\"\"\"\n",
    "\n",
    "r, s, t = Reals('r s t')  #the parameters"
   ]
  },
  {
   "cell_type": "markdown",
   "metadata": {},
   "source": [
    "Since the theorem requires the transversal line to cross all three edges of the triangle, the points of intersection - $D$, $E$, $F$ - correspond to some real values of the parameters $r$, $s$ and $t$."
   ]
  },
  {
   "cell_type": "code",
   "execution_count": null,
   "metadata": {},
   "outputs": [],
   "source": [
    "def cut(l, P, Q):\n",
    "    \"\"\"\n",
    "    With the line PQ parameterised as described above,\n",
    "    this function returns the point R obtained when the parameter is equal to `l`.\n",
    "    \"\"\"\n",
    "    return (P[0] + l*(Q[0] - P[0]), P[1] + l*(Q[1] - P[1]))\n",
    "\n",
    "# D, E, F are points on the edges AB, BC, CA respectively\n",
    "D, E, F = cut(r, A, B), cut(s, B, C), cut(t, C, A)"
   ]
  },
  {
   "cell_type": "markdown",
   "metadata": {},
   "source": [
    "After defining the nine variables (six for the vertices of the triangle and three for the parameters of the edges) required to describe the setup in coordinate geometry, the next step is to formulate a system of equations describing the theorem.\n",
    "\n",
    "#### Equations and Inequations"
   ]
  },
  {
   "cell_type": "markdown",
   "metadata": {},
   "source": [
    "For the \"forward\" part of the theorem statement, the hypothesis is that the three points of intersection - $D$, $E$ and $F)$ - are collinear. As mentioned above, collinearity can be formulated as a polynomial equation in terms of the coordinates of the three points."
   ]
  },
  {
   "cell_type": "code",
   "execution_count": null,
   "metadata": {},
   "outputs": [],
   "source": [
    "are_collinear(D, E, F)"
   ]
  },
  {
   "cell_type": "markdown",
   "metadata": {},
   "source": [
    "The statement of Menelaus' theorem holds even when the regular Euclidean distances (given by $\\sqrt{(x_1 - x_2)^2 + (y_1 - y_2)^2}$ for points $(x_1, y_1)$ and $(x_2, y_2)$) are replaced by the squares of the Euclidean distances ($(x_1 - x_2)^2 + (y_1 - y_2)^2$). The statement can also be rewritten as\n",
    "\n",
    "$$\n",
    "DA \\times EB \\times FC = DB \\times EC \\times FA \n",
    "$$\n",
    "\n",
    "With these simplifications, the forward part of the theorem can be expressed as a polynomial in all the variables involved."
   ]
  },
  {
   "cell_type": "code",
   "execution_count": null,
   "metadata": {},
   "outputs": [],
   "source": [
    "def d(p, q):\n",
    "    \"\"\"\n",
    "    Returns the square of the Euclidean distance between two points.\n",
    "    \"\"\"\n",
    "    return (p[0] - q[0])**2 + (p[1] - q[1])**2\n",
    "\n",
    "dist_eq = d(D, A) * d(E, B) * d(F, C) == d(D, B) * d(E, C) * d(F, A)"
   ]
  },
  {
   "cell_type": "markdown",
   "metadata": {},
   "source": [
    "The converse (or \"reverse\") statement has the additional requirement that the exactly either one or three of the intersection points lie on the extensions of edges of the triangle. Due to the way the parameterisation of the lines was chosen, a point lies on an extended edge if and only if the corresponding value of the parameter is not contained in the $[0, 1]$ interval.\n",
    "\n",
    "The condition of a parameter $l$ being contained in the $[0, 1]$ interval can be formulated in terms of inequations\n",
    "\n",
    "$$\n",
    "(0 \\lt l) \\wedge (l \\lt 1)\n",
    "$$\n",
    "\n",
    "The converse of the theorem requires that out of the three parameters $r$, $s$, and $t$, an odd number of them (either one or three) must *not* satisfy the above condition.\n",
    "\n",
    "This can be captured using the `XOR` (exclusive `OR`, which is `True` when exactly one of the inputs is `True`) function ($\\oplus$) -\n",
    "\n",
    "$$\n",
    "\\neg \\left(\\left( (0 \\lt r) \\wedge (r \\lt 1) \\right) \\oplus \\left( (0 \\lt s) \\wedge (s \\lt 1) \\right) \\oplus \\left( (0 \\lt t) \\wedge (t \\lt 1) \\right)\\right)\n",
    "$$\n",
    "\n",
    "which is `True` only when an odd number of intersection points lie on the extended edges."
   ]
  },
  {
   "cell_type": "code",
   "execution_count": null,
   "metadata": {},
   "outputs": [],
   "source": [
    "def in_bounds(l):\n",
    "    \"\"\"\n",
    "    Checks whether the parameter is within the range (0, 1),\n",
    "    i.e, whether the point corresponding to the parameter value `l` is \n",
    "    contained within the corresponding edge or on an extension of it.\n",
    "    \"\"\"\n",
    "    return And(0 < l, l < 1)\n",
    "\n",
    "odd_in_bounds = Xor(Xor(in_bounds(r), in_bounds(s)), in_bounds(t))"
   ]
  },
  {
   "cell_type": "markdown",
   "metadata": {},
   "source": [
    "The forward and reverse implication parts of the theorem statement can now be formulated as follows"
   ]
  },
  {
   "cell_type": "code",
   "execution_count": null,
   "metadata": {},
   "outputs": [],
   "source": [
    "menelaus_theorem_fwd = Implies(And(Not(odd_in_bounds), dist_eq), are_collinear(D, E, F))\n",
    "menelaus_theorem_rev = Implies(And(Not(odd_in_bounds), are_collinear(D, E, F)), dist_eq)\n",
    "\n",
    "menelaus_theorem = And(menelaus_theorem_fwd, menelaus_theorem_rev)"
   ]
  },
  {
   "cell_type": "code",
   "execution_count": null,
   "metadata": {},
   "outputs": [],
   "source": [
    "set_param(proof = False)\n",
    "\n",
    "menelaus_solver = Solver()\n",
    "\n",
    "menelaus_solver.add(Not(are_collinear(A, B, C)))\n",
    "menelaus_solver.add(Not(menelaus_theorem))\n",
    "\n",
    "menelaus_solver.check()"
   ]
  },
  {
   "cell_type": "markdown",
   "metadata": {},
   "source": [
    "As with Pappus' theorem, the `Z3` solver can solve (but not prove) Menelaus' theorem."
   ]
  },
  {
   "cell_type": "markdown",
   "metadata": {},
   "source": [
    "#### Using signed distances (extra material)"
   ]
  },
  {
   "cell_type": "markdown",
   "metadata": {},
   "source": [
    "As mentioned above, the theorem can also be formulated using signed distances. This can be achieved easily using the values of the three parameters $r$, $s$ and $t$.\n",
    "\n",
    "Notice that the origin formula uses only depends on the ratios of the distances of the intersection point from the vertices, and not the actual distances themselves. The parameterisation of the lines was chosen such that the value $0$ corresponds to the first vertex and the value of $1$ corresponds to the second vertex.\n",
    "\n",
    "For a line $PQ$ parameterised by a variable $l$, the (unsigned) distance between two points on the line corresponding to the values $l_1$ and $l_2$ of the parameter is given by \n",
    "\n",
    "$$\n",
    "    \\vert l_2 - l_1 \\vert \\cdot d(P, Q)\n",
    "$$,\n",
    "and the signed distance can be calculated by replacing $\\vert l_2 - l_1 \\vert$ in the above formula by just $\\left(l_2 - l_1\\right)$."
   ]
  },
  {
   "cell_type": "markdown",
   "metadata": {},
   "source": [
    "For a point $R$ on the line $PQ$ with the parameter value equal to $l_R$, the signed distance from $P$ is given by $\\left(l_R - 0\\right) \\cdot d(P, Q)$, and likewise, the signed distance from $Q$ is given by $\\left(l_R - 1\\right) \\cdot d(P, Q)$."
   ]
  },
  {
   "cell_type": "markdown",
   "metadata": {},
   "source": [
    "The signed version of the distance equation can now be formulated as\n",
    "\n",
    "$$\n",
    "(r - 0) \\cdot (s - 0) \\cdot (t - 0) = (r - 1) \\cdot (s - 1)\\cdot (t - 1)\n",
    "$$"
   ]
  },
  {
   "cell_type": "code",
   "execution_count": null,
   "metadata": {},
   "outputs": [],
   "source": [
    "signed_dist_eq = (r - 0) * (s - 0) * (t - 0) == (r - 1) * (s - 1) * (t - 1)"
   ]
  },
  {
   "cell_type": "markdown",
   "metadata": {},
   "source": [
    "and the final form of Menelaus' theorem formulated in terms of distances is"
   ]
  },
  {
   "cell_type": "code",
   "execution_count": null,
   "metadata": {},
   "outputs": [],
   "source": [
    "signed_menelaus_theorem = And(Implies(are_collinear(D, E, F), signed_dist_eq), \n",
    "                              Implies(signed_dist_eq, are_collinear(D, E, F)))"
   ]
  },
  {
   "cell_type": "code",
   "execution_count": null,
   "metadata": {},
   "outputs": [],
   "source": [
    "set_param(proof = False)\n",
    "\n",
    "signed_menelaus_solver = Solver()\n",
    "signed_menelaus_solver.add(Not(are_collinear(A, B, C)))\n",
    "signed_menelaus_solver.add(Not(signed_menelaus_theorem))\n",
    "\n",
    "signed_menelaus_solver.check()"
   ]
  },
  {
   "cell_type": "markdown",
   "metadata": {},
   "source": [
    "As expected, the solver returns `unsat`.\n",
    "\n",
    "---"
   ]
  },
  {
   "cell_type": "markdown",
   "metadata": {},
   "source": [
    "The two theorems mentioned in this article can also be explored interactively as GeoGebra applets. Here are links to two applets developed by GeoGebra users `Don_Abucito` and `chisanga` respectively:\n",
    "\n",
    "- [Exploration of Pappus Hexagon theorem](https://www.geogebra.org/m/fhf56hbu)\n",
    "- [Exploration of Menelaus's theorem](https://www.geogebra.org/m/TAfxCPT9)\n",
    "\n",
    "---"
   ]
  }
 ],
 "metadata": {
  "kernelspec": {
   "display_name": "Python 3 (ipykernel)",
   "language": "python",
   "name": "python3"
  },
  "language_info": {
   "codemirror_mode": {
    "name": "ipython",
    "version": 3
   },
   "file_extension": ".py",
   "mimetype": "text/x-python",
   "name": "python",
   "nbconvert_exporter": "python",
   "pygments_lexer": "ipython3",
   "version": "3.7.15"
  },
  "vscode": {
   "interpreter": {
    "hash": "31f2aee4e71d21fbe5cf8b01ff0e069b9275f58929596ceb00d14d90e3e16cd6"
   }
  }
 },
 "nbformat": 4,
 "nbformat_minor": 4
}
